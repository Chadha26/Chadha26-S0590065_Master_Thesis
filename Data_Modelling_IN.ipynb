{
  "metadata": {
    "kernelspec": {
      "name": "python",
      "display_name": "Python (Pyodide)",
      "language": "python"
    },
    "language_info": {
      "codemirror_mode": {
        "name": "python",
        "version": 3
      },
      "file_extension": ".py",
      "mimetype": "text/x-python",
      "name": "python",
      "nbconvert_exporter": "python",
      "pygments_lexer": "ipython3",
      "version": "3.8"
    },
    "colab": {
      "provenance": []
    }
  },
  "nbformat_minor": 4,
  "nbformat": 4,
  "cells": [
    {
      "cell_type": "code",
      "source": "pip install pandas numpy statsmodels arch scipy",
      "metadata": {
        "colab": {
          "base_uri": "https://localhost:8080/"
        },
        "id": "XqaBmY1zZbaT",
        "outputId": "52b77602-a355-4853-b92a-6f26e45a5a08"
      },
      "outputs": [
        {
          "output_type": "stream",
          "name": "stdout",
          "text": [
            "Requirement already satisfied: pandas in /usr/local/lib/python3.10/dist-packages (2.2.2)\n",
            "Requirement already satisfied: numpy in /usr/local/lib/python3.10/dist-packages (1.26.4)\n",
            "Requirement already satisfied: statsmodels in /usr/local/lib/python3.10/dist-packages (0.14.4)\n",
            "Collecting arch\n",
            "  Downloading arch-7.2.0-cp310-cp310-manylinux_2_17_x86_64.manylinux2014_x86_64.whl.metadata (13 kB)\n",
            "Requirement already satisfied: scipy in /usr/local/lib/python3.10/dist-packages (1.13.1)\n",
            "Requirement already satisfied: python-dateutil>=2.8.2 in /usr/local/lib/python3.10/dist-packages (from pandas) (2.8.2)\n",
            "Requirement already satisfied: pytz>=2020.1 in /usr/local/lib/python3.10/dist-packages (from pandas) (2024.2)\n",
            "Requirement already satisfied: tzdata>=2022.7 in /usr/local/lib/python3.10/dist-packages (from pandas) (2024.2)\n",
            "Requirement already satisfied: patsy>=0.5.6 in /usr/local/lib/python3.10/dist-packages (from statsmodels) (0.5.6)\n",
            "Requirement already satisfied: packaging>=21.3 in /usr/local/lib/python3.10/dist-packages (from statsmodels) (24.1)\n",
            "Requirement already satisfied: six in /usr/local/lib/python3.10/dist-packages (from patsy>=0.5.6->statsmodels) (1.16.0)\n",
            "Downloading arch-7.2.0-cp310-cp310-manylinux_2_17_x86_64.manylinux2014_x86_64.whl (985 kB)\n",
            "\u001b[2K   \u001b[90m━━━━━━━━━━━━━━━━━━━━━━━━━━━━━━━━━━━━━━━━\u001b[0m \u001b[32m985.1/985.1 kB\u001b[0m \u001b[31m9.7 MB/s\u001b[0m eta \u001b[36m0:00:00\u001b[0m\n",
            "\u001b[?25hInstalling collected packages: arch\n",
            "Successfully installed arch-7.2.0\n"
          ]
        }
      ],
      "execution_count": 2
    },
    {
      "cell_type": "code",
      "source": "import pandas as pd\nimport numpy as np\nfrom arch import arch_model\nfrom scipy.stats import norm\nimport matplotlib.pyplot as plt\nimport statsmodels.api as sm",
      "metadata": {
        "id": "glZxuvVft9JF"
      },
      "outputs": [],
      "execution_count": 3
    },
    {
      "cell_type": "code",
      "source": "df = pd.read_csv(\"Raw Data/IN_Cleaned.csv\")\ndf.info()",
      "metadata": {
        "id": "TBT-iXgGt7N8",
        "colab": {
          "base_uri": "https://localhost:8080/"
        },
        "outputId": "e8d7ed4c-5b5a-4ba2-886a-53794ed965aa"
      },
      "outputs": [
        {
          "output_type": "stream",
          "name": "stdout",
          "text": [
            "<class 'pandas.core.frame.DataFrame'>\n",
            "RangeIndex: 1087 entries, 0 to 1086\n",
            "Data columns (total 9 columns):\n",
            " #   Column       Non-Null Count  Dtype  \n",
            "---  ------       --------------  -----  \n",
            " 0   Date         1087 non-null   object \n",
            " 1   PX_LAST      1087 non-null   float64\n",
            " 2   PX_VOLUME_x  1087 non-null   int64  \n",
            " 3   NIFVIX       1087 non-null   float64\n",
            " 4   IN003M       1087 non-null   float64\n",
            " 5   PX_BID       1087 non-null   float64\n",
            " 6   PX_VOLUME_y  1087 non-null   int64  \n",
            " 7   PX_ASK       1087 non-null   float64\n",
            " 8   PX_SPREAD    1087 non-null   float64\n",
            "dtypes: float64(6), int64(2), object(1)\n",
            "memory usage: 76.6+ KB\n"
          ]
        }
      ],
      "execution_count": 14
    },
    {
      "cell_type": "code",
      "source": "def black_scholes_call(S, K, T, r, sigma):\n    \"\"\"\n    Calculate the Black-Scholes option price.\n    \"\"\"\n    d1 = (np.log(S / K) + (r + 0.5 * sigma**2) * T ) / (sigma * np.sqrt(T))\n    d2 = d1 - sigma * np.sqrt(T)\n    C = S * norm.cdf(d1) - K * np.exp(-r * T) * norm.cdf(d2)\n    return C\n\ndf['Date'] = pd.to_datetime(df['Date'])\ndf = df.sort_values(by='Date')\n\ndf['Log_Returns'] = np.log(df['PX_LAST'] / df['PX_LAST'].shift(1))\ndf = df.dropna()  # Remove any NaN values resulting from shift operation\n\nmodel = arch_model(df['Log_Returns'], vol='Garch', p=1, q=1, dist='normal', rescale=False)\nmodel_fit = model.fit(disp=\"off\")\ndf['GARCH_Volatility'] = model_fit.conditional_volatility\ndf['Sigma_Annualized'] = df['GARCH_Volatility'] * np.sqrt(252)\ndf['Daily_STIR'] = df['IN003M']/252\n\ndf['S'] = df['PX_LAST']              # Spot price (index price on that day)\ndf['K'] = df['PX_LAST']              # Set strike price equal to spot price (ATM option)\ndf['T'] = 1/252                      # Time to expiry (1 day in years)\ndf['r'] = df['Daily_STIR']               # Daily short-term interest rate (SOFR3M)\ndf['Sigma'] = df['GARCH_Volatility'] # Use annualized GARCH volatility as sigma\n\ndf['Option_Price'] = df.apply(\n    lambda row: black_scholes_call(row['S'], row['K'], row['T'], row['r'], row['Sigma']), axis=1\n    )\n\ndf_Model = (df[['Date', 'PX_LAST', 'GARCH_Volatility', 'Sigma_Annualized', 'NIFVIX', 'IN003M', 'Daily_STIR', 'Option_Price',]])\ndf_Model.info()\ndf_Model.to_csv(\"IN_Model.csv\", index=False)",
      "metadata": {
        "id": "FrcJ4YqlugEz",
        "colab": {
          "base_uri": "https://localhost:8080/"
        },
        "outputId": "737572b9-99fa-44c0-e61f-fbaefc8ba04f"
      },
      "outputs": [
        {
          "output_type": "stream",
          "name": "stdout",
          "text": [
            "<class 'pandas.core.frame.DataFrame'>\n",
            "Index: 1085 entries, 1084 to 0\n",
            "Data columns (total 8 columns):\n",
            " #   Column            Non-Null Count  Dtype         \n",
            "---  ------            --------------  -----         \n",
            " 0   Date              1085 non-null   datetime64[ns]\n",
            " 1   PX_LAST           1085 non-null   float64       \n",
            " 2   GARCH_Volatility  1085 non-null   float64       \n",
            " 3   Sigma_Annualized  1085 non-null   float64       \n",
            " 4   NIFVIX            1085 non-null   float64       \n",
            " 5   IN003M            1085 non-null   float64       \n",
            " 6   Daily_STIR        1085 non-null   float64       \n",
            " 7   Option_Price      1085 non-null   float64       \n",
            "dtypes: datetime64[ns](1), float64(7)\n",
            "memory usage: 76.3 KB\n"
          ]
        }
      ],
      "execution_count": 16
    },
    {
      "cell_type": "code",
      "source": "",
      "metadata": {
        "id": "4P4-X5U6eTrk"
      },
      "outputs": [],
      "execution_count": null
    }
  ]
}